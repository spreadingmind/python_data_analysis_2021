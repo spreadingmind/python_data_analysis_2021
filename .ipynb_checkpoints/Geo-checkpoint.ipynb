{
 "cells": [
  {
   "cell_type": "code",
   "execution_count": 1,
   "id": "certain-inspector",
   "metadata": {},
   "outputs": [],
   "source": [
    "import folium\n",
    "import geopy # объединенное API для популярных гео-кодирующих сервисов\n",
    "from geopy.geocoders import Yandex, GoogleV3\n",
    "\n",
    "# https://developers.google.com/maps/documentation/geocoding/start - получить свой API Key\n",
    "geolocator_google = GoogleV3(api_key='')\n"
   ]
  }
 ],
 "metadata": {
  "kernelspec": {
   "display_name": "Python 3",
   "language": "python",
   "name": "python3"
  },
  "language_info": {
   "codemirror_mode": {
    "name": "ipython",
    "version": 3
   },
   "file_extension": ".py",
   "mimetype": "text/x-python",
   "name": "python",
   "nbconvert_exporter": "python",
   "pygments_lexer": "ipython3",
   "version": "3.8.5"
  }
 },
 "nbformat": 4,
 "nbformat_minor": 5
}
