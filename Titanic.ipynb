{
 "cells": [
  {
   "cell_type": "code",
   "execution_count": 1,
   "id": "timely-shelter",
   "metadata": {},
   "outputs": [],
   "source": [
    "import pandas as pd\n",
    "import numpy as np\n",
    "import matplotlib\n",
    "%matplotlib inline"
   ]
  },
  {
   "cell_type": "code",
   "execution_count": 2,
   "id": "square-raise",
   "metadata": {},
   "outputs": [
    {
     "data": {
      "text/html": [
       "<div>\n",
       "<style scoped>\n",
       "    .dataframe tbody tr th:only-of-type {\n",
       "        vertical-align: middle;\n",
       "    }\n",
       "\n",
       "    .dataframe tbody tr th {\n",
       "        vertical-align: top;\n",
       "    }\n",
       "\n",
       "    .dataframe thead th {\n",
       "        text-align: right;\n",
       "    }\n",
       "</style>\n",
       "<table border=\"1\" class=\"dataframe\">\n",
       "  <thead>\n",
       "    <tr style=\"text-align: right;\">\n",
       "      <th></th>\n",
       "      <th>PassengerId</th>\n",
       "      <th>Survived</th>\n",
       "      <th>Pclass</th>\n",
       "      <th>Name</th>\n",
       "      <th>Sex</th>\n",
       "      <th>Age</th>\n",
       "      <th>SibSp</th>\n",
       "      <th>Parch</th>\n",
       "      <th>Ticket</th>\n",
       "      <th>Fare</th>\n",
       "      <th>Cabin</th>\n",
       "      <th>Embarked</th>\n",
       "    </tr>\n",
       "  </thead>\n",
       "  <tbody>\n",
       "    <tr>\n",
       "      <th>0</th>\n",
       "      <td>1</td>\n",
       "      <td>0</td>\n",
       "      <td>3</td>\n",
       "      <td>Braund, Mr. Owen Harris</td>\n",
       "      <td>male</td>\n",
       "      <td>22.0</td>\n",
       "      <td>1</td>\n",
       "      <td>0</td>\n",
       "      <td>A/5 21171</td>\n",
       "      <td>7.2500</td>\n",
       "      <td>NaN</td>\n",
       "      <td>S</td>\n",
       "    </tr>\n",
       "    <tr>\n",
       "      <th>1</th>\n",
       "      <td>2</td>\n",
       "      <td>1</td>\n",
       "      <td>1</td>\n",
       "      <td>Cumings, Mrs. John Bradley (Florence Briggs Th...</td>\n",
       "      <td>female</td>\n",
       "      <td>38.0</td>\n",
       "      <td>1</td>\n",
       "      <td>0</td>\n",
       "      <td>PC 17599</td>\n",
       "      <td>71.2833</td>\n",
       "      <td>C85</td>\n",
       "      <td>C</td>\n",
       "    </tr>\n",
       "    <tr>\n",
       "      <th>2</th>\n",
       "      <td>3</td>\n",
       "      <td>1</td>\n",
       "      <td>3</td>\n",
       "      <td>Heikkinen, Miss. Laina</td>\n",
       "      <td>female</td>\n",
       "      <td>26.0</td>\n",
       "      <td>0</td>\n",
       "      <td>0</td>\n",
       "      <td>STON/O2. 3101282</td>\n",
       "      <td>7.9250</td>\n",
       "      <td>NaN</td>\n",
       "      <td>S</td>\n",
       "    </tr>\n",
       "    <tr>\n",
       "      <th>3</th>\n",
       "      <td>4</td>\n",
       "      <td>1</td>\n",
       "      <td>1</td>\n",
       "      <td>Futrelle, Mrs. Jacques Heath (Lily May Peel)</td>\n",
       "      <td>female</td>\n",
       "      <td>35.0</td>\n",
       "      <td>1</td>\n",
       "      <td>0</td>\n",
       "      <td>113803</td>\n",
       "      <td>53.1000</td>\n",
       "      <td>C123</td>\n",
       "      <td>S</td>\n",
       "    </tr>\n",
       "    <tr>\n",
       "      <th>4</th>\n",
       "      <td>5</td>\n",
       "      <td>0</td>\n",
       "      <td>3</td>\n",
       "      <td>Allen, Mr. William Henry</td>\n",
       "      <td>male</td>\n",
       "      <td>35.0</td>\n",
       "      <td>0</td>\n",
       "      <td>0</td>\n",
       "      <td>373450</td>\n",
       "      <td>8.0500</td>\n",
       "      <td>NaN</td>\n",
       "      <td>S</td>\n",
       "    </tr>\n",
       "    <tr>\n",
       "      <th>...</th>\n",
       "      <td>...</td>\n",
       "      <td>...</td>\n",
       "      <td>...</td>\n",
       "      <td>...</td>\n",
       "      <td>...</td>\n",
       "      <td>...</td>\n",
       "      <td>...</td>\n",
       "      <td>...</td>\n",
       "      <td>...</td>\n",
       "      <td>...</td>\n",
       "      <td>...</td>\n",
       "      <td>...</td>\n",
       "    </tr>\n",
       "    <tr>\n",
       "      <th>886</th>\n",
       "      <td>887</td>\n",
       "      <td>0</td>\n",
       "      <td>2</td>\n",
       "      <td>Montvila, Rev. Juozas</td>\n",
       "      <td>male</td>\n",
       "      <td>27.0</td>\n",
       "      <td>0</td>\n",
       "      <td>0</td>\n",
       "      <td>211536</td>\n",
       "      <td>13.0000</td>\n",
       "      <td>NaN</td>\n",
       "      <td>S</td>\n",
       "    </tr>\n",
       "    <tr>\n",
       "      <th>887</th>\n",
       "      <td>888</td>\n",
       "      <td>1</td>\n",
       "      <td>1</td>\n",
       "      <td>Graham, Miss. Margaret Edith</td>\n",
       "      <td>female</td>\n",
       "      <td>19.0</td>\n",
       "      <td>0</td>\n",
       "      <td>0</td>\n",
       "      <td>112053</td>\n",
       "      <td>30.0000</td>\n",
       "      <td>B42</td>\n",
       "      <td>S</td>\n",
       "    </tr>\n",
       "    <tr>\n",
       "      <th>888</th>\n",
       "      <td>889</td>\n",
       "      <td>0</td>\n",
       "      <td>3</td>\n",
       "      <td>Johnston, Miss. Catherine Helen \"Carrie\"</td>\n",
       "      <td>female</td>\n",
       "      <td>NaN</td>\n",
       "      <td>1</td>\n",
       "      <td>2</td>\n",
       "      <td>W./C. 6607</td>\n",
       "      <td>23.4500</td>\n",
       "      <td>NaN</td>\n",
       "      <td>S</td>\n",
       "    </tr>\n",
       "    <tr>\n",
       "      <th>889</th>\n",
       "      <td>890</td>\n",
       "      <td>1</td>\n",
       "      <td>1</td>\n",
       "      <td>Behr, Mr. Karl Howell</td>\n",
       "      <td>male</td>\n",
       "      <td>26.0</td>\n",
       "      <td>0</td>\n",
       "      <td>0</td>\n",
       "      <td>111369</td>\n",
       "      <td>30.0000</td>\n",
       "      <td>C148</td>\n",
       "      <td>C</td>\n",
       "    </tr>\n",
       "    <tr>\n",
       "      <th>890</th>\n",
       "      <td>891</td>\n",
       "      <td>0</td>\n",
       "      <td>3</td>\n",
       "      <td>Dooley, Mr. Patrick</td>\n",
       "      <td>male</td>\n",
       "      <td>32.0</td>\n",
       "      <td>0</td>\n",
       "      <td>0</td>\n",
       "      <td>370376</td>\n",
       "      <td>7.7500</td>\n",
       "      <td>NaN</td>\n",
       "      <td>Q</td>\n",
       "    </tr>\n",
       "  </tbody>\n",
       "</table>\n",
       "<p>891 rows × 12 columns</p>\n",
       "</div>"
      ],
      "text/plain": [
       "     PassengerId  Survived  Pclass  \\\n",
       "0              1         0       3   \n",
       "1              2         1       1   \n",
       "2              3         1       3   \n",
       "3              4         1       1   \n",
       "4              5         0       3   \n",
       "..           ...       ...     ...   \n",
       "886          887         0       2   \n",
       "887          888         1       1   \n",
       "888          889         0       3   \n",
       "889          890         1       1   \n",
       "890          891         0       3   \n",
       "\n",
       "                                                  Name     Sex   Age  SibSp  \\\n",
       "0                              Braund, Mr. Owen Harris    male  22.0      1   \n",
       "1    Cumings, Mrs. John Bradley (Florence Briggs Th...  female  38.0      1   \n",
       "2                               Heikkinen, Miss. Laina  female  26.0      0   \n",
       "3         Futrelle, Mrs. Jacques Heath (Lily May Peel)  female  35.0      1   \n",
       "4                             Allen, Mr. William Henry    male  35.0      0   \n",
       "..                                                 ...     ...   ...    ...   \n",
       "886                              Montvila, Rev. Juozas    male  27.0      0   \n",
       "887                       Graham, Miss. Margaret Edith  female  19.0      0   \n",
       "888           Johnston, Miss. Catherine Helen \"Carrie\"  female   NaN      1   \n",
       "889                              Behr, Mr. Karl Howell    male  26.0      0   \n",
       "890                                Dooley, Mr. Patrick    male  32.0      0   \n",
       "\n",
       "     Parch            Ticket     Fare Cabin Embarked  \n",
       "0        0         A/5 21171   7.2500   NaN        S  \n",
       "1        0          PC 17599  71.2833   C85        C  \n",
       "2        0  STON/O2. 3101282   7.9250   NaN        S  \n",
       "3        0            113803  53.1000  C123        S  \n",
       "4        0            373450   8.0500   NaN        S  \n",
       "..     ...               ...      ...   ...      ...  \n",
       "886      0            211536  13.0000   NaN        S  \n",
       "887      0            112053  30.0000   B42        S  \n",
       "888      2        W./C. 6607  23.4500   NaN        S  \n",
       "889      0            111369  30.0000  C148        C  \n",
       "890      0            370376   7.7500   NaN        Q  \n",
       "\n",
       "[891 rows x 12 columns]"
      ]
     },
     "execution_count": 2,
     "metadata": {},
     "output_type": "execute_result"
    }
   ],
   "source": [
    "data = pd.read_csv('./titanic-data/train.csv')\n",
    "data"
   ]
  },
  {
   "cell_type": "code",
   "execution_count": 3,
   "id": "fallen-century",
   "metadata": {},
   "outputs": [
    {
     "name": "stdout",
     "output_type": "stream",
     "text": [
      "Total passegers: 891 Survived: 38\n"
     ]
    }
   ],
   "source": [
    "npassengers = data.PassengerId.nunique()\n",
    "psurvived = int(100 * data['Survived'].sum() / data.PassengerId.nunique())\n",
    "\n",
    "print('Total passegers:', npassengers, 'Survived:', psurvived)"
   ]
  },
  {
   "cell_type": "code",
   "execution_count": 4,
   "id": "colonial-separation",
   "metadata": {},
   "outputs": [
    {
     "data": {
      "text/plain": [
       "PassengerId      0\n",
       "Survived         0\n",
       "Pclass           0\n",
       "Name             0\n",
       "Sex              0\n",
       "Age            177\n",
       "SibSp            0\n",
       "Parch            0\n",
       "Ticket           0\n",
       "Fare             0\n",
       "Cabin          687\n",
       "Embarked         2\n",
       "dtype: int64"
      ]
     },
     "execution_count": 4,
     "metadata": {},
     "output_type": "execute_result"
    }
   ],
   "source": [
    "data.isnull().sum()"
   ]
  },
  {
   "cell_type": "markdown",
   "id": "cathedral-subsection",
   "metadata": {},
   "source": [
    "#### Заметим, что в датасете в 177 строках нет Age, в 687 строках нет Cabin и в 2 нет Embarked.\n",
    "##### Это нужно будет учитывать при использовании данных параметров для анализа"
   ]
  },
  {
   "cell_type": "markdown",
   "id": "lonely-disco",
   "metadata": {},
   "source": [
    "#### Гипотеза 1: выживаемость зависела от гендера\n",
    "##### Mужчины выживали чаще, чем женщины, так как дольше могли продержаться в воде?"
   ]
  },
  {
   "cell_type": "code",
   "execution_count": 17,
   "id": "received-british",
   "metadata": {},
   "outputs": [
    {
     "data": {
      "text/plain": [
       "male      577\n",
       "female    314\n",
       "Name: Sex, dtype: int64"
      ]
     },
     "execution_count": 17,
     "metadata": {},
     "output_type": "execute_result"
    }
   ],
   "source": [
    "# total number of males and females\n",
    "data.Sex.value_counts()"
   ]
  },
  {
   "cell_type": "code",
   "execution_count": 19,
   "id": "active-party",
   "metadata": {},
   "outputs": [
    {
     "data": {
      "text/html": [
       "<div>\n",
       "<style scoped>\n",
       "    .dataframe tbody tr th:only-of-type {\n",
       "        vertical-align: middle;\n",
       "    }\n",
       "\n",
       "    .dataframe tbody tr th {\n",
       "        vertical-align: top;\n",
       "    }\n",
       "\n",
       "    .dataframe thead th {\n",
       "        text-align: right;\n",
       "    }\n",
       "</style>\n",
       "<table border=\"1\" class=\"dataframe\">\n",
       "  <thead>\n",
       "    <tr style=\"text-align: right;\">\n",
       "      <th></th>\n",
       "      <th>Survived</th>\n",
       "    </tr>\n",
       "    <tr>\n",
       "      <th>Sex</th>\n",
       "      <th></th>\n",
       "    </tr>\n",
       "  </thead>\n",
       "  <tbody>\n",
       "    <tr>\n",
       "      <th>female</th>\n",
       "      <td>74.0</td>\n",
       "    </tr>\n",
       "    <tr>\n",
       "      <th>male</th>\n",
       "      <td>19.0</td>\n",
       "    </tr>\n",
       "  </tbody>\n",
       "</table>\n",
       "</div>"
      ],
      "text/plain": [
       "        Survived\n",
       "Sex             \n",
       "female      74.0\n",
       "male        19.0"
      ]
     },
     "execution_count": 19,
     "metadata": {},
     "output_type": "execute_result"
    }
   ],
   "source": [
    "# show survival by sex\n",
    "data[['Sex', 'Survived']].groupby(\n",
    "    ['Sex']).mean().apply(lambda x: round(100 * x))"
   ]
  },
  {
   "cell_type": "code",
   "execution_count": 20,
   "id": "activated-karma",
   "metadata": {},
   "outputs": [
    {
     "data": {
      "text/plain": [
       "<matplotlib.legend.Legend at 0x7fd1908a2970>"
      ]
     },
     "execution_count": 20,
     "metadata": {},
     "output_type": "execute_result"
    },
    {
     "data": {
      "image/png": "[encoded data removed]",
      "text/plain": [
       "<Figure size 720x360 with 1 Axes>"
      ]
     },
     "metadata": {
      "needs_background": "light"
     },
     "output_type": "display_data"
    }
   ],
   "source": [
    "ax = data.Sex.hist(figsize=(10, 5), bins=10, edgecolor='white', grid=True)\n",
    "data[data.Survived == 1].Sex.hist(figsize=(10, 5), bins=10,\n",
    "                                  edgecolor='white', grid=True, color='green')\n",
    "ax.legend(['Total', 'Survived'], prop={'size': 16})"
   ]
  },
  {
   "cell_type": "markdown",
   "id": "otherwise-hollywood",
   "metadata": {},
   "source": [
    "#### Вывод\n",
    "##### Гипотеза не верна. У женщин было почти в 4 раза выше шанс выжить, чем у мужчин"
   ]
  },
  {
   "cell_type": "markdown",
   "id": "chemical-venice",
   "metadata": {},
   "source": [
    "#### Гипотеза 2: выживаемость зависела от возраста\n",
    "##### Стариков и детей выжило меньше, чем людей в молодом и среднем возрасте?"
   ]
  },
  {
   "cell_type": "code",
   "execution_count": 124,
   "id": "given-plaza",
   "metadata": {},
   "outputs": [
    {
     "data": {
      "text/plain": [
       "Age\n",
       "(0, 5]       44\n",
       "(5, 10]      20\n",
       "(10, 15]     19\n",
       "(15, 20]     96\n",
       "(20, 25]    122\n",
       "(25, 30]    108\n",
       "(30, 35]     88\n",
       "(35, 40]     67\n",
       "(40, 45]     47\n",
       "(45, 50]     39\n",
       "(50, 55]     24\n",
       "(55, 60]     18\n",
       "(60, 65]     14\n",
       "(65, 70]      3\n",
       "(70, 75]      4\n",
       "(75, 80]      1\n",
       "Name: Age, dtype: int64"
      ]
     },
     "execution_count": 124,
     "metadata": {},
     "output_type": "execute_result"
    }
   ],
   "source": [
    "# Show age distribution in intervals of 5 years\n",
    "minage = int(data.Age.min())\n",
    "maxage = int(data.Age.max())\n",
    "\n",
    "age_bins = pd.cut(data.Age, range(minage, maxage + 1, 5))\n",
    "data.groupby(age_bins).Age.count()"
   ]
  },
  {
   "cell_type": "markdown",
   "id": "lesbian-access",
   "metadata": {},
   "source": [
    "##### Здесь не учитываются 177 пассажиров, у кого не было значения Age"
   ]
  },
  {
   "cell_type": "code",
   "execution_count": 279,
   "id": "collaborative-extra",
   "metadata": {},
   "outputs": [
    {
     "data": {
      "text/plain": [
       "Text(0, 0.5, 'Survival percentage')"
      ]
     },
     "execution_count": 279,
     "metadata": {},
     "output_type": "execute_result"
    },
    {
     "data": {
      "image/png": "[encoded data removed]",
      "text/plain": [
       "<Figure size 720x360 with 1 Axes>"
      ]
     },
     "metadata": {
      "needs_background": "light"
     },
     "output_type": "display_data"
    }
   ],
   "source": [
    "# Sirvaval percentage in age intervals\n",
    "p = data.groupby(bins).Survived.mean().apply(lambda x: round(100 * x)).plot(\n",
    "    figsize=(10, 5), grid=True, linestyle='--', marker='o', lw=1)\n",
    "\n",
    "p.set_ylabel('Survival percentage')"
   ]
  },
  {
   "cell_type": "markdown",
   "id": "scheduled-juvenile",
   "metadata": {},
   "source": [
    "#### Вывод\n",
    "##### Больше всего пассажиров были в возрасте 20-30 лет, меньше всего - 65-80 лет. При этом наибольший шанс выжить имели дети в возрасте 0-5 лет (70%) и 10-15 лет (60%), наимеший - люди от 65 до 75 лет (не выжил никто). На борту был 1 человек в возрасте 80 лет, и он выжил, поэтому для этой группы шанс выжить - 100% - статистически не значимый.  Люди от 15 до 25 лет имели немного меньший шанс выжить (34%) по сравнению с людьми в возрасте от 25 до 55 лет (в среднем ~40%). Гипотеза частично не верна."
   ]
  },
  {
   "cell_type": "markdown",
   "id": "skilled-senegal",
   "metadata": {},
   "source": [
    "#### Гипотеза 3: выживаемость зависела от порта, в котором человек садился"
   ]
  },
  {
   "cell_type": "code",
   "execution_count": 313,
   "id": "hidden-armenia",
   "metadata": {},
   "outputs": [
    {
     "data": {
      "text/plain": [
       "S    644\n",
       "C    168\n",
       "Q     77\n",
       "Name: Embarked, dtype: int64"
      ]
     },
     "execution_count": 313,
     "metadata": {},
     "output_type": "execute_result"
    }
   ],
   "source": [
    "data.Embarked.value_counts()"
   ]
  },
  {
   "cell_type": "markdown",
   "id": "legendary-lexington",
   "metadata": {},
   "source": [
    "##### Заметим, что большинство пассажиров садились в порту S, поэтому добавим это значение пассажирам, у которых нет значения в этой колонке, т.к это меньше всего нарушит статистику"
   ]
  },
  {
   "cell_type": "code",
   "execution_count": 320,
   "id": "convertible-sigma",
   "metadata": {},
   "outputs": [
    {
     "data": {
      "text/plain": [
       "S    646\n",
       "C    168\n",
       "Q     77\n",
       "Name: Embarked, dtype: int64"
      ]
     },
     "execution_count": 320,
     "metadata": {},
     "output_type": "execute_result"
    }
   ],
   "source": [
    "data.Embarked.fillna(\"S\", inplace=True)\n",
    "\n",
    "data.Embarked.value_counts()"
   ]
  },
  {
   "cell_type": "code",
   "execution_count": 321,
   "id": "changed-priest",
   "metadata": {},
   "outputs": [
    {
     "data": {
      "text/plain": [
       "S    73 %\n",
       "C    19 %\n",
       "Q     9 %\n",
       "Name: Embarked, dtype: object"
      ]
     },
     "execution_count": 321,
     "metadata": {},
     "output_type": "execute_result"
    }
   ],
   "source": [
    "# percentage of passengers by port\n",
    "(100 * data.Embarked.value_counts() / data.PassengerId.nunique()\n",
    " ).apply(lambda x: '{} %'.format(round(x)))"
   ]
  },
  {
   "cell_type": "code",
   "execution_count": 22,
   "id": "regulated-terrace",
   "metadata": {},
   "outputs": [
    {
     "data": {
      "text/html": [
       "<div>\n",
       "<style scoped>\n",
       "    .dataframe tbody tr th:only-of-type {\n",
       "        vertical-align: middle;\n",
       "    }\n",
       "\n",
       "    .dataframe tbody tr th {\n",
       "        vertical-align: top;\n",
       "    }\n",
       "\n",
       "    .dataframe thead th {\n",
       "        text-align: right;\n",
       "    }\n",
       "</style>\n",
       "<table border=\"1\" class=\"dataframe\">\n",
       "  <thead>\n",
       "    <tr style=\"text-align: right;\">\n",
       "      <th></th>\n",
       "      <th>Survived</th>\n",
       "    </tr>\n",
       "    <tr>\n",
       "      <th>Embarked</th>\n",
       "      <th></th>\n",
       "    </tr>\n",
       "  </thead>\n",
       "  <tbody>\n",
       "    <tr>\n",
       "      <th>C</th>\n",
       "      <td>55.0</td>\n",
       "    </tr>\n",
       "    <tr>\n",
       "      <th>Q</th>\n",
       "      <td>39.0</td>\n",
       "    </tr>\n",
       "    <tr>\n",
       "      <th>S</th>\n",
       "      <td>34.0</td>\n",
       "    </tr>\n",
       "  </tbody>\n",
       "</table>\n",
       "</div>"
      ],
      "text/plain": [
       "          Survived\n",
       "Embarked          \n",
       "C             55.0\n",
       "Q             39.0\n",
       "S             34.0"
      ]
     },
     "execution_count": 22,
     "metadata": {},
     "output_type": "execute_result"
    }
   ],
   "source": [
    "# show survival by port\n",
    "data[['Embarked', 'Survived']].groupby(['Embarked']).mean().apply(\n",
    "    lambda x: round(100 * x))"
   ]
  },
  {
   "cell_type": "markdown",
   "id": "cardiovascular-provincial",
   "metadata": {},
   "source": [
    "#### Вывод\n",
    "##### Большинство пассажиров (73%) садились в порту Southhampton и при этом 34% из них выжили, что очень близко к среднему проценту выживших. Учитывая, что пассажиры из этого порта составляют большинство общего числа пассажиров, это означает что статистически порт сильно не влиял на выживаемость. Гипотеза не верна."
   ]
  },
  {
   "cell_type": "markdown",
   "id": "exotic-interval",
   "metadata": {},
   "source": [
    "#### Гипотеза 4: выживаемость зависела от класса\n",
    "##### Людей из 1 класса выжило больше, чем из 2 и 3?"
   ]
  },
  {
   "cell_type": "code",
   "execution_count": 25,
   "id": "overhead-wings",
   "metadata": {},
   "outputs": [
    {
     "data": {
      "text/html": [
       "<div>\n",
       "<style scoped>\n",
       "    .dataframe tbody tr th:only-of-type {\n",
       "        vertical-align: middle;\n",
       "    }\n",
       "\n",
       "    .dataframe tbody tr th {\n",
       "        vertical-align: top;\n",
       "    }\n",
       "\n",
       "    .dataframe thead th {\n",
       "        text-align: right;\n",
       "    }\n",
       "</style>\n",
       "<table border=\"1\" class=\"dataframe\">\n",
       "  <thead>\n",
       "    <tr style=\"text-align: right;\">\n",
       "      <th></th>\n",
       "      <th>Survived</th>\n",
       "    </tr>\n",
       "    <tr>\n",
       "      <th>Pclass</th>\n",
       "      <th></th>\n",
       "    </tr>\n",
       "  </thead>\n",
       "  <tbody>\n",
       "    <tr>\n",
       "      <th>1</th>\n",
       "      <td>63.0</td>\n",
       "    </tr>\n",
       "    <tr>\n",
       "      <th>2</th>\n",
       "      <td>47.0</td>\n",
       "    </tr>\n",
       "    <tr>\n",
       "      <th>3</th>\n",
       "      <td>24.0</td>\n",
       "    </tr>\n",
       "  </tbody>\n",
       "</table>\n",
       "</div>"
      ],
      "text/plain": [
       "        Survived\n",
       "Pclass          \n",
       "1           63.0\n",
       "2           47.0\n",
       "3           24.0"
      ]
     },
     "execution_count": 25,
     "metadata": {},
     "output_type": "execute_result"
    }
   ],
   "source": [
    "# percentage of survived in each class\n",
    "\n",
    "data[['Pclass', 'Survived']].groupby(\n",
    "    ['Pclass']).mean().apply(lambda x: round(100 * x))"
   ]
  },
  {
   "cell_type": "markdown",
   "id": "latin-apparel",
   "metadata": {},
   "source": [
    "#### Вывод\n",
    "##### Среди пассажиров 1 класса почти в 3 раза больше выживших, чем в 1, и почти на 20% больше, чем во 2. Гипотеза верна."
   ]
  },
  {
   "cell_type": "markdown",
   "id": "separate-suite",
   "metadata": {},
   "source": [
    "#### Гипотеза 5: выживаемость зависела от класса и тарифа\n",
    "##### Чем выше класс и тариф, тем было больше шанса выжить?"
   ]
  },
  {
   "cell_type": "code",
   "execution_count": 26,
   "id": "sporting-release",
   "metadata": {},
   "outputs": [
    {
     "data": {
      "text/html": [
       "<div>\n",
       "<style scoped>\n",
       "    .dataframe tbody tr th:only-of-type {\n",
       "        vertical-align: middle;\n",
       "    }\n",
       "\n",
       "    .dataframe tbody tr th {\n",
       "        vertical-align: top;\n",
       "    }\n",
       "\n",
       "    .dataframe thead th {\n",
       "        text-align: right;\n",
       "    }\n",
       "</style>\n",
       "<table border=\"1\" class=\"dataframe\">\n",
       "  <thead>\n",
       "    <tr style=\"text-align: right;\">\n",
       "      <th></th>\n",
       "      <th></th>\n",
       "      <th>Survived</th>\n",
       "    </tr>\n",
       "    <tr>\n",
       "      <th>Pclass</th>\n",
       "      <th>HighFare</th>\n",
       "      <th></th>\n",
       "    </tr>\n",
       "  </thead>\n",
       "  <tbody>\n",
       "    <tr>\n",
       "      <th rowspan=\"2\" valign=\"top\">1</th>\n",
       "      <th>False</th>\n",
       "      <td>57.0</td>\n",
       "    </tr>\n",
       "    <tr>\n",
       "      <th>True</th>\n",
       "      <td>77.0</td>\n",
       "    </tr>\n",
       "    <tr>\n",
       "      <th rowspan=\"2\" valign=\"top\">2</th>\n",
       "      <th>False</th>\n",
       "      <td>40.0</td>\n",
       "    </tr>\n",
       "    <tr>\n",
       "      <th>True</th>\n",
       "      <td>56.0</td>\n",
       "    </tr>\n",
       "    <tr>\n",
       "      <th rowspan=\"2\" valign=\"top\">3</th>\n",
       "      <th>False</th>\n",
       "      <td>23.0</td>\n",
       "    </tr>\n",
       "    <tr>\n",
       "      <th>True</th>\n",
       "      <td>27.0</td>\n",
       "    </tr>\n",
       "  </tbody>\n",
       "</table>\n",
       "</div>"
      ],
      "text/plain": [
       "                 Survived\n",
       "Pclass HighFare          \n",
       "1      False         57.0\n",
       "       True          77.0\n",
       "2      False         40.0\n",
       "       True          56.0\n",
       "3      False         23.0\n",
       "       True          27.0"
      ]
     },
     "execution_count": 26,
     "metadata": {},
     "output_type": "execute_result"
    }
   ],
   "source": [
    "# get average fare for each class\n",
    "f_mean_fare = data[(data.Pclass == 1)].Fare.mean()\n",
    "s_mean_fare = data[(data.Pclass == 2)].Fare.mean()\n",
    "t_mean_fare = data[(data.Pclass == 3)].Fare.mean()\n",
    "\n",
    "# add HighFare col showing if passenger paid higher than average fare for his class\n",
    "data['HighFare'] = np.where(\n",
    "    ((data.Pclass == 1) & (data.Fare > f_mean_fare)) |\n",
    "    ((data.Pclass == 2) & (data.Fare > s_mean_fare)) |\n",
    "    ((data.Pclass == 3) & (data.Fare > t_mean_fare)),\n",
    "    True,\n",
    "    False)\n",
    "\n",
    "high_fare_corr = data[['Pclass', 'HighFare', 'Survived']].groupby(\n",
    "    ['Pclass', 'HighFare']).mean().apply(lambda x: round(100 * x))\n",
    "high_fare_corr"
   ]
  },
  {
   "cell_type": "code",
   "execution_count": 27,
   "id": "suitable-mission",
   "metadata": {},
   "outputs": [
    {
     "data": {
      "text/plain": [
       "Text(0, 0.5, 'Survival percentage')"
      ]
     },
     "execution_count": 27,
     "metadata": {},
     "output_type": "execute_result"
    },
    {
     "data": {
      "image/png": "[encoded data removed]",
      "text/plain": [
       "<Figure size 720x360 with 1 Axes>"
      ]
     },
     "metadata": {
      "needs_background": "light"
     },
     "output_type": "display_data"
    }
   ],
   "source": [
    "p = high_fare_corr.plot(figsize=(10, 5), grid=True,\n",
    "                        linestyle='--', marker='o', lw=1)\n",
    "\n",
    "p.set_ylabel('Survival percentage')"
   ]
  },
  {
   "cell_type": "markdown",
   "id": "purple-range",
   "metadata": {},
   "source": [
    "#### Вывод\n",
    "##### Люди, заплатившие более высокий тариф, чем средний по классу, имели в среднем выше шанс выжить (примерно на 20% в 1 и во 2 классах). В 3 классе шанс был выше только на 3% (незначительно выше). Гипотеза в целом верна. Возможно, это объясняется тем, что более высокий тариф платили за кабины, расположенные ближе к команде корабяля/шлюпкам/дальше от скопления людей и проч."
   ]
  },
  {
   "cell_type": "markdown",
   "id": "smaller-elite",
   "metadata": {},
   "source": [
    "#### Гипотеза 6: выживаемость зависела от класса и пола\n",
    "##### Женщин в 1 классе выжило больше всего, мужчин в 3 классе - меньше всего"
   ]
  },
  {
   "cell_type": "code",
   "execution_count": 28,
   "id": "central-billion",
   "metadata": {},
   "outputs": [
    {
     "data": {
      "text/html": [
       "<div>\n",
       "<style scoped>\n",
       "    .dataframe tbody tr th:only-of-type {\n",
       "        vertical-align: middle;\n",
       "    }\n",
       "\n",
       "    .dataframe tbody tr th {\n",
       "        vertical-align: top;\n",
       "    }\n",
       "\n",
       "    .dataframe thead th {\n",
       "        text-align: right;\n",
       "    }\n",
       "</style>\n",
       "<table border=\"1\" class=\"dataframe\">\n",
       "  <thead>\n",
       "    <tr style=\"text-align: right;\">\n",
       "      <th></th>\n",
       "      <th></th>\n",
       "      <th>Survived</th>\n",
       "    </tr>\n",
       "    <tr>\n",
       "      <th>Pclass</th>\n",
       "      <th>Sex</th>\n",
       "      <th></th>\n",
       "    </tr>\n",
       "  </thead>\n",
       "  <tbody>\n",
       "    <tr>\n",
       "      <th rowspan=\"2\" valign=\"top\">1</th>\n",
       "      <th>female</th>\n",
       "      <td>97.0</td>\n",
       "    </tr>\n",
       "    <tr>\n",
       "      <th>male</th>\n",
       "      <td>37.0</td>\n",
       "    </tr>\n",
       "    <tr>\n",
       "      <th rowspan=\"2\" valign=\"top\">2</th>\n",
       "      <th>female</th>\n",
       "      <td>92.0</td>\n",
       "    </tr>\n",
       "    <tr>\n",
       "      <th>male</th>\n",
       "      <td>16.0</td>\n",
       "    </tr>\n",
       "    <tr>\n",
       "      <th rowspan=\"2\" valign=\"top\">3</th>\n",
       "      <th>female</th>\n",
       "      <td>50.0</td>\n",
       "    </tr>\n",
       "    <tr>\n",
       "      <th>male</th>\n",
       "      <td>14.0</td>\n",
       "    </tr>\n",
       "  </tbody>\n",
       "</table>\n",
       "</div>"
      ],
      "text/plain": [
       "               Survived\n",
       "Pclass Sex             \n",
       "1      female      97.0\n",
       "       male        37.0\n",
       "2      female      92.0\n",
       "       male        16.0\n",
       "3      female      50.0\n",
       "       male        14.0"
      ]
     },
     "execution_count": 28,
     "metadata": {},
     "output_type": "execute_result"
    }
   ],
   "source": [
    "sex_class_corr = data[['Pclass', 'Sex', 'Survived']].groupby(\n",
    "    ['Pclass', 'Sex']).mean().apply(lambda x: round(100 * x))\n",
    "sex_class_corr"
   ]
  },
  {
   "cell_type": "code",
   "execution_count": 29,
   "id": "wanted-board",
   "metadata": {
    "scrolled": true
   },
   "outputs": [
    {
     "data": {
      "text/plain": [
       "Text(0, 0.5, 'Survival percentage')"
      ]
     },
     "execution_count": 29,
     "metadata": {},
     "output_type": "execute_result"
    },
    {
     "data": {
      "image/png": "[encoded data removed]",
      "text/plain": [
       "<Figure size 720x360 with 1 Axes>"
      ]
     },
     "metadata": {
      "needs_background": "light"
     },
     "output_type": "display_data"
    }
   ],
   "source": [
    "p = sex_class_corr.plot(figsize=(10, 5), grid=True,\n",
    "                        linestyle='--', marker='o', lw=1)\n",
    "\n",
    "p.set_ylabel('Survival percentage')"
   ]
  },
  {
   "cell_type": "markdown",
   "id": "current-highway",
   "metadata": {},
   "source": [
    "#### Вывод\n",
    "##### Почти 100% женщин из 1 и 2 класса выжили. В 3 классе выжили 50% женщин - больше, чем дмужчин в 1 классе. Гипотеза верна. Мужчин из 2 и 3 класса выжило всего 16% и 14% соответственно. Гипотеза верна."
   ]
  },
  {
   "cell_type": "markdown",
   "id": "recognized-bryan",
   "metadata": {},
   "source": [
    "#### Гипотеза 7: выживаемость зависела от количества родственников на корабле\n",
    "##### Чем больше родственников, тем выше шанс выжить?"
   ]
  },
  {
   "cell_type": "code",
   "execution_count": 30,
   "id": "piano-court",
   "metadata": {},
   "outputs": [
    {
     "data": {
      "text/html": [
       "<div>\n",
       "<style scoped>\n",
       "    .dataframe tbody tr th:only-of-type {\n",
       "        vertical-align: middle;\n",
       "    }\n",
       "\n",
       "    .dataframe tbody tr th {\n",
       "        vertical-align: top;\n",
       "    }\n",
       "\n",
       "    .dataframe thead th {\n",
       "        text-align: right;\n",
       "    }\n",
       "</style>\n",
       "<table border=\"1\" class=\"dataframe\">\n",
       "  <thead>\n",
       "    <tr style=\"text-align: right;\">\n",
       "      <th></th>\n",
       "      <th>Survived</th>\n",
       "    </tr>\n",
       "    <tr>\n",
       "      <th>Family</th>\n",
       "      <th></th>\n",
       "    </tr>\n",
       "  </thead>\n",
       "  <tbody>\n",
       "    <tr>\n",
       "      <th>0</th>\n",
       "      <td>30.0</td>\n",
       "    </tr>\n",
       "    <tr>\n",
       "      <th>1</th>\n",
       "      <td>55.0</td>\n",
       "    </tr>\n",
       "    <tr>\n",
       "      <th>2</th>\n",
       "      <td>58.0</td>\n",
       "    </tr>\n",
       "    <tr>\n",
       "      <th>3</th>\n",
       "      <td>72.0</td>\n",
       "    </tr>\n",
       "    <tr>\n",
       "      <th>4</th>\n",
       "      <td>20.0</td>\n",
       "    </tr>\n",
       "    <tr>\n",
       "      <th>5</th>\n",
       "      <td>14.0</td>\n",
       "    </tr>\n",
       "    <tr>\n",
       "      <th>6</th>\n",
       "      <td>33.0</td>\n",
       "    </tr>\n",
       "    <tr>\n",
       "      <th>7</th>\n",
       "      <td>0.0</td>\n",
       "    </tr>\n",
       "    <tr>\n",
       "      <th>10</th>\n",
       "      <td>0.0</td>\n",
       "    </tr>\n",
       "  </tbody>\n",
       "</table>\n",
       "</div>"
      ],
      "text/plain": [
       "        Survived\n",
       "Family          \n",
       "0           30.0\n",
       "1           55.0\n",
       "2           58.0\n",
       "3           72.0\n",
       "4           20.0\n",
       "5           14.0\n",
       "6           33.0\n",
       "7            0.0\n",
       "10           0.0"
      ]
     },
     "execution_count": 30,
     "metadata": {},
     "output_type": "execute_result"
    }
   ],
   "source": [
    "data['Family'] = data['SibSp'] + data['Parch']\n",
    "\n",
    "family_corr = data[['Family', 'Survived']].groupby(\n",
    "    ['Family']).mean().apply(lambda x: round(100 * x))\n",
    "family_corr"
   ]
  },
  {
   "cell_type": "code",
   "execution_count": 31,
   "id": "biological-sector",
   "metadata": {
    "scrolled": true
   },
   "outputs": [
    {
     "data": {
      "text/plain": [
       "Text(0, 0.5, 'Survival percentage')"
      ]
     },
     "execution_count": 31,
     "metadata": {},
     "output_type": "execute_result"
    },
    {
     "data": {
      "image/png": "[encoded data removed]",
      "text/plain": [
       "<Figure size 720x360 with 1 Axes>"
      ]
     },
     "metadata": {
      "needs_background": "light"
     },
     "output_type": "display_data"
    }
   ],
   "source": [
    "p = family_corr.plot(figsize=(10, 5), grid=True,\n",
    "                     linestyle='--', marker='o', lw=1)\n",
    "\n",
    "p.set_ylabel('Survival percentage')"
   ]
  },
  {
   "cell_type": "markdown",
   "id": "central-choice",
   "metadata": {},
   "source": [
    "#### Вывод\n",
    "##### Наиболее высокий шанс (более 70%) выжить был у людей с 3 родственниками на борту. У людей с 1-2 родственниками - ниже на 10-15%, у остальных групп - значительно ниже. Погибли все пассажиры, у кого было 7-10 родственников. Гипотеза не верна."
   ]
  },
  {
   "cell_type": "markdown",
   "id": "legendary-shirt",
   "metadata": {},
   "source": [
    "#### Гипотеза 8: выживаемость зависела от количества и типа родственников на корабле\n",
    "##### Людей с родителями и детьми (parch) выжило меньше, чем людей с супругами и сиблингами (sibsp)"
   ]
  },
  {
   "cell_type": "code",
   "execution_count": 32,
   "id": "neural-specification",
   "metadata": {},
   "outputs": [
    {
     "data": {
      "text/plain": [
       "<AxesSubplot:>"
      ]
     },
     "execution_count": 32,
     "metadata": {},
     "output_type": "execute_result"
    },
    {
     "data": {
      "image/png": "[encoded data removed]",
      "text/plain": [
       "<Figure size 720x360 with 1 Axes>"
      ]
     },
     "metadata": {
      "needs_background": "light"
     },
     "output_type": "display_data"
    }
   ],
   "source": [
    "parch_corr = data[['Parch', 'Survived']].groupby(\n",
    "    ['Parch']).mean().apply(lambda x: round(100 * x)).reset_index()\n",
    "sibsp_corr = data[['SibSp', 'Survived']].groupby(\n",
    "    ['SibSp']).mean().apply(lambda x: round(100 * x)).reset_index()\n",
    "parch_corr.set_index('Parch').join(sibsp_corr.set_index('SibSp'), how='outer', lsuffix='_parch',\n",
    "                                   rsuffix='_sibsp').plot(figsize=(10, 5), grid=True, linestyle='--', marker='o', lw=1)"
   ]
  },
  {
   "cell_type": "markdown",
   "id": "sophisticated-aspect",
   "metadata": {},
   "source": [
    "#### Вывод\n",
    "##### У людей без детей/родителей и супругов/сиблингов на корабле был одинаковый шанс выжить - около 35%. Также примерно одинаковый шанс выжить был у пассажиров с 1 или 2 типами родственников. Наиболее различные шансы выжить были у людей с 3 детьми или родителями (и наиболее высокий из всех) - 60% по сравнению с 25% у пассажиров с 3 сиблингами и супругом. В целом людей с родителями/детьми выжило больше, чем с сиблингами и супругами. Учитывыая предыдущие гипотезы это может быть объяснено тем, что спасали в первую очередь детей. Гипотеза неверна."
   ]
  },
  {
   "cell_type": "markdown",
   "id": "earned-satin",
   "metadata": {},
   "source": [
    "#### Общий вывод: выжили преимущественно дети и женщины, причем у женщин из 1 и 2 класса был почти 100% шанс выжить, у детей от 0 до 15 лет - 60-70%. Для большинства остальных пассажиров средний шанс выжить был около 40%. Чем выше класс и тариф пассажира, тем больше был шанс выжить. Также в среднем больше выжило людей с небольшим количеством родственников - от 0 до 3.\n",
    "##### Более подробные описания каждого пункта вывода представлены под каждой гипотезой."
   ]
  }
 ],
 "metadata": {
  "kernelspec": {
   "display_name": "Python 3",
   "language": "python",
   "name": "python3"
  },
  "language_info": {
   "codemirror_mode": {
    "name": "ipython",
    "version": 3
   },
   "file_extension": ".py",
   "mimetype": "text/x-python",
   "name": "python",
   "nbconvert_exporter": "python",
   "pygments_lexer": "ipython3",
   "version": "3.8.5"
  }
 },
 "nbformat": 4,
 "nbformat_minor": 5
}
